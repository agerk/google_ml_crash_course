{
  "nbformat": 4,
  "nbformat_minor": 0,
  "metadata": {
    "colab": {
      "name": "Cat-vs-Dog_PretrainedModel_FeatureExtraction_Part3.ipynb",
      "version": "0.3.2",
      "provenance": [],
      "collapsed_sections": []
    },
    "kernelspec": {
      "name": "python3",
      "display_name": "Python 3"
    },
    "accelerator": "GPU"
  },
  "cells": [
    {
      "cell_type": "markdown",
      "metadata": {
        "id": "view-in-github",
        "colab_type": "text"
      },
      "source": [
        "[View in Colaboratory](https://colab.research.google.com/github/agerk/google_ml_crash_course/blob/master/Cat_vs_Dog_PretrainedModel_FeatureExtraction_Part3.ipynb)"
      ]
    },
    {
      "metadata": {
        "id": "gYBpYKEGtZW7",
        "colab_type": "text"
      },
      "cell_type": "markdown",
      "source": [
        "<h2>Feature Extraction and Fine-Tuning Using Inception V3</h2>\n",
        "\n",
        "- Repurposing feature data generated from image models that have already been trained on large dataset to increase model accuracy\n",
        "\n",
        "<h3>Feature Extraction Using a Pretrained Model </h3>\n",
        "\n",
        "- In computer vision, commonly model trained on large dataset, is used to extract intermdediate representations and use them tonew model with smaller dataset. This veratility and repurposability of convnets is one of the most intersting aspect of deep learning. \n",
        "\n",
        "- To imporve Cat-vs-Dog image classifier, [Inception V3 model](https://arxiv.org/abs/1512.00567) developed at Google, and pre-trained on [ImageNet](http://image-net.org/), a large dataset of web images (1.4M images and 1000 classes) will be used.\n",
        "\n",
        "- Common practice it to use the very last layer before `Flattening` operation, the so called \"bottleneck layer\". \n",
        "- Unlike the `Fully` connected layer, the bottleneck features retain much generality"
      ]
    },
    {
      "metadata": {
        "id": "K3tvcq_1vStm",
        "colab_type": "code",
        "colab": {
          "base_uri": "https://localhost:8080/",
          "height": 34
        },
        "outputId": "eb469068-926f-4e41-f2cb-4dc41b7519a5"
      },
      "cell_type": "code",
      "source": [
        "# Load liberaries\n",
        "import os\n",
        "\n",
        "# Load DL liberaries\n",
        "import tensorflow as tf\n",
        "from keras.applications.inception_v3 import InceptionV3\n",
        "from keras import layers\n",
        "from keras.models import Model\n",
        "from keras.optimizers import RMSprop\n",
        "from keras import backend as K\n",
        "\n",
        "# Configure TF backend session\n",
        "tf_config = tf.ConfigProto(\n",
        "  gpu_options=tf.GPUOptions(allow_growth=True))\n",
        "K.set_session(tf.Session(config=tf_config))"
      ],
      "execution_count": 1,
      "outputs": [
        {
          "output_type": "stream",
          "text": [
            "Using TensorFlow backend.\n"
          ],
          "name": "stderr"
        }
      ]
    },
    {
      "metadata": {
        "id": "u8ATNQ7axWmB",
        "colab_type": "code",
        "colab": {
          "base_uri": "https://localhost:8080/",
          "height": 241
        },
        "outputId": "c3b95067-ce78-46e2-de83-ceff00a8309b"
      },
      "cell_type": "code",
      "source": [
        "# Download pretrained weights\n",
        "!wget --no-check-certificate \\\n",
        "    https://storage.googleapis.com/mledu-datasets/inception_v3_weights_tf_dim_ordering_tf_kernels_notop.h5 \\\n",
        "    -O /tmp/inception_v3_weights_tf_dim_ordering_tf_kernels_notop.h5\n",
        "print(\"Done loading weights!\")"
      ],
      "execution_count": 2,
      "outputs": [
        {
          "output_type": "stream",
          "text": [
            "--2018-06-02 01:38:23--  https://storage.googleapis.com/mledu-datasets/inception_v3_weights_tf_dim_ordering_tf_kernels_notop.h5\r\n",
            "Resolving storage.googleapis.com (storage.googleapis.com)... 74.125.124.128, 2607:f8b0:4001:c08::80\r\n",
            "Connecting to storage.googleapis.com (storage.googleapis.com)|74.125.124.128|:443... connected.\n",
            "HTTP request sent, awaiting response... 200 OK\n",
            "Length: 87910968 (84M) [application/x-hdf]\n",
            "Saving to: ‘/tmp/inception_v3_weights_tf_dim_ordering_tf_kernels_notop.h5’\n",
            "\n",
            "/tmp/inception_v3_w 100%[===================>]  83.84M   103MB/s    in 0.8s    \n",
            "\n",
            "2018-06-02 01:38:24 (103 MB/s) - ‘/tmp/inception_v3_weights_tf_dim_ordering_tf_kernels_notop.h5’ saved [87910968/87910968]\n",
            "\n",
            "Done loading weights!\n"
          ],
          "name": "stdout"
        }
      ]
    },
    {
      "metadata": {
        "id": "APlZDO25yHsK",
        "colab_type": "code",
        "colab": {}
      },
      "cell_type": "code",
      "source": [
        "# Get local copy \n",
        "local_weights_file = '/tmp/inception_v3_weights_tf_dim_ordering_tf_kernels_notop.h5'\n",
        "# Specify include_top=False, exclude the top layer\n",
        "pre_trained_model = InceptionV3(\n",
        "    input_shape=(150, 150, 3), include_top=False, weights=None)\n",
        "pre_trained_model.load_weights(local_weights_file)"
      ],
      "execution_count": 0,
      "outputs": []
    },
    {
      "metadata": {
        "id": "HMik1TKd1vRS",
        "colab_type": "text"
      },
      "cell_type": "markdown",
      "source": [
        "Make model non-trainable, since we will only use it for `feaure extraction`. No updates to the weights of the pretrained model"
      ]
    },
    {
      "metadata": {
        "id": "QKlE4ClH0XAY",
        "colab_type": "code",
        "colab": {}
      },
      "cell_type": "code",
      "source": [
        "# Make model weights non-trainable\n",
        "for layer in pre_trained_model.layers:\n",
        "  layer.trainable = False"
      ],
      "execution_count": 0,
      "outputs": []
    },
    {
      "metadata": {
        "id": "_bDEdBUr2kXX",
        "colab_type": "text"
      },
      "cell_type": "markdown",
      "source": [
        "For feature extraction of Inception v3, use layer `mixed7`. It is not the bottleneck of the network, but we use it to keep large features (7x7), instead of the the bottleneck layer with 3x3 features"
      ]
    },
    {
      "metadata": {
        "id": "duvu80i12ZSh",
        "colab_type": "code",
        "colab": {
          "base_uri": "https://localhost:8080/",
          "height": 34
        },
        "outputId": "49f6a542-a400-4b13-d361-5c645ab8f21d"
      },
      "cell_type": "code",
      "source": [
        "last_layer = pre_trained_model.get_layer('mixed7')\n",
        "print('last layer output shape:', last_layer.output_shape)\n",
        "last_output = last_layer.output"
      ],
      "execution_count": 5,
      "outputs": [
        {
          "output_type": "stream",
          "text": [
            "last layer output shape: (None, 7, 7, 768)\n"
          ],
          "name": "stdout"
        }
      ]
    },
    {
      "metadata": {
        "id": "OdzfjvhW4eHu",
        "colab_type": "text"
      },
      "cell_type": "markdown",
      "source": [
        "Add a fully connected classifier on top of last_output"
      ]
    },
    {
      "metadata": {
        "id": "SkroEgmM3XKr",
        "colab_type": "code",
        "colab": {}
      },
      "cell_type": "code",
      "source": [
        "# Flatten the output to 1D\n",
        "x = layers.Flatten()(last_output)\n",
        "# Add a fully connected layer with 1,024 hidden units and ReLU activation \n",
        "x = layers.Dense(1024, activation='relu')(x)\n",
        "# Add a dropout rate of 0.2\n",
        "x = layers.Dropout(0.2)(x)\n",
        "# Add a final sigmoid layer for classification \n",
        "x = layers.Dense(1, activation='sigmoid')(x)\n",
        "\n",
        "# Configuration and compile the model\n",
        "model = Model(pre_trained_model.input, x)\n",
        "model.compile(loss='binary_crossentropy',\n",
        "            optimizer=RMSprop(lr=0.0001),\n",
        "            metrics=['acc'])"
      ],
      "execution_count": 0,
      "outputs": []
    },
    {
      "metadata": {
        "id": "JT_F9Vnp7FaA",
        "colab_type": "text"
      },
      "cell_type": "markdown",
      "source": [
        "<h2>Data Prepocessing</h2>\n",
        "\n",
        "The 2,000 images used in Part 2 https://github.com/agerk/google_ml_crash_course/blob/master/Cat_vs_Dog_image_classification_Part2.ipynb excerpted from the 'Dogs vs. Cats' dataset available on Kaggle"
      ]
    },
    {
      "metadata": {
        "id": "elM52b8M6jvw",
        "colab_type": "code",
        "colab": {
          "base_uri": "https://localhost:8080/",
          "height": 224
        },
        "outputId": "5fcd1cdd-b6d0-43b3-967f-a55abb428be2"
      },
      "cell_type": "code",
      "source": [
        "# Load data\n",
        "!wget --no-check-certificate \\\n",
        "   https://storage.googleapis.com/mledu-datasets/cats_and_dogs_filtered.zip -O \\\n",
        "   /tmp/cats_and_dogs_filtered.zip"
      ],
      "execution_count": 7,
      "outputs": [
        {
          "output_type": "stream",
          "text": [
            "--2018-06-02 01:38:43--  https://storage.googleapis.com/mledu-datasets/cats_and_dogs_filtered.zip\r\n",
            "Resolving storage.googleapis.com (storage.googleapis.com)... 108.177.112.128, 2607:f8b0:4001:c08::80\r\n",
            "Connecting to storage.googleapis.com (storage.googleapis.com)|108.177.112.128|:443... connected.\n",
            "HTTP request sent, awaiting response... 200 OK\n",
            "Length: 68606236 (65M) [application/zip]\n",
            "Saving to: ‘/tmp/cats_and_dogs_filtered.zip’\n",
            "\n",
            "/tmp/cats_and_dogs_ 100%[===================>]  65.43M  74.2MB/s    in 0.9s    \n",
            "\n",
            "2018-06-02 01:38:44 (74.2 MB/s) - ‘/tmp/cats_and_dogs_filtered.zip’ saved [68606236/68606236]\n",
            "\n"
          ],
          "name": "stdout"
        }
      ]
    },
    {
      "metadata": {
        "id": "qb8mx_mO8OjE",
        "colab_type": "code",
        "colab": {}
      },
      "cell_type": "code",
      "source": [
        "import os\n",
        "import zipfile\n",
        "\n",
        "local_zip = '/tmp/cats_and_dogs_filtered.zip'\n",
        "zip_ref = zipfile.ZipFile(local_zip, 'r')\n",
        "zip_ref.extractall('/tmp')\n",
        "zip_ref.close()\n"
      ],
      "execution_count": 0,
      "outputs": []
    },
    {
      "metadata": {
        "id": "c9ADWLWH8dYa",
        "colab_type": "code",
        "colab": {}
      },
      "cell_type": "code",
      "source": [
        "# Defie train and validation dirs\n",
        "base_dir = '/tmp/cats_and_dogs_filtered'\n",
        "train_dir = os.path.join(base_dir, 'train')\n",
        "validation_dir = os.path.join(base_dir, 'validation')\n",
        "\n",
        "# Directory with our training cat pictures\n",
        "train_cats_dir = os.path.join(train_dir, 'cats')\n",
        "validation_cats_dir = os.path.join(validation_dir, 'cats')\n",
        "\n",
        "train_dogs_dir = os.path.join(train_dir, 'dogs')\n",
        "validation_dogs_dir = os.path.join(validation_dir, 'dogs')\n",
        "\n",
        "# Get file name \n",
        "train_cat_fnames = os.listdir(train_cats_dir)\n",
        "train_dog_fnames = os.listdir(train_dogs_dir)"
      ],
      "execution_count": 0,
      "outputs": []
    },
    {
      "metadata": {
        "id": "tA1g7tBx_rVc",
        "colab_type": "text"
      },
      "cell_type": "markdown",
      "source": [
        "<h3>Data augmentation</h3>"
      ]
    },
    {
      "metadata": {
        "id": "71m9liB-_qj3",
        "colab_type": "code",
        "colab": {
          "base_uri": "https://localhost:8080/",
          "height": 51
        },
        "outputId": "f5dceb26-2ae9-49f1-fadd-703bc2871cfe"
      },
      "cell_type": "code",
      "source": [
        "from keras.preprocessing.image import ImageDataGenerator\n",
        "\n",
        "# Add data-augmentation parameter to ImageDataGenerator\n",
        "train_datagen = ImageDataGenerator(\n",
        "    rescale=1./255,\n",
        "    rotation_range=40,\n",
        "    width_shift_range=0.2,\n",
        "    height_shift_range=0.2,\n",
        "    shear_range=0.2,\n",
        "    zoom_range=0.2,\n",
        "    horizontal_flip=True)\n",
        "\n",
        "# validation data should not be agumented\n",
        "test_datagen = ImageDataGenerator(rescale=1./255)\n",
        "\n",
        "# Flow trainging images for batch processing\n",
        "train_generator = train_datagen.flow_from_directory(\n",
        "    train_dir,\n",
        "    target_size=(150, 150),\n",
        "    batch_size=20,\n",
        "    class_mode='binary')\n",
        "\n",
        "# Flow validation images in batches of 20 using test_datagen\n",
        "validation_generator = test_datagen.flow_from_directory(\n",
        "    validation_dir,\n",
        "    target_size=(150,150),\n",
        "    batch_size=20,\n",
        "    class_mode='binary')"
      ],
      "execution_count": 10,
      "outputs": [
        {
          "output_type": "stream",
          "text": [
            "Found 2000 images belonging to 2 classes.\n",
            "Found 1000 images belonging to 2 classes.\n"
          ],
          "name": "stdout"
        }
      ]
    },
    {
      "metadata": {
        "id": "mqyxf3lEDLs8",
        "colab_type": "text"
      },
      "cell_type": "markdown",
      "source": [
        "<h3> Train the model</h3>\n",
        "\n",
        "Train the model using extracted features for 2 epochs"
      ]
    },
    {
      "metadata": {
        "id": "KulyO__CAP4P",
        "colab_type": "code",
        "colab": {
          "base_uri": "https://localhost:8080/",
          "height": 105
        },
        "outputId": "6bc417c1-db27-4566-8d97-a665ff634d72"
      },
      "cell_type": "code",
      "source": [
        "history = model.fit_generator(\n",
        "    train_generator,\n",
        "    steps_per_epoch=100,\n",
        "    epochs=2,\n",
        "    validation_data=validation_generator,\n",
        "    validation_steps=50,\n",
        "    verbose=2)"
      ],
      "execution_count": 11,
      "outputs": [
        {
          "output_type": "stream",
          "text": [
            "Epoch 1/2\n",
            " - 29s - loss: 0.5052 - acc: 0.7725 - val_loss: 0.1495 - val_acc: 0.9530\n",
            "Epoch 2/2\n",
            " - 24s - loss: 0.3819 - acc: 0.8380 - val_loss: 0.1541 - val_acc: 0.9580\n"
          ],
          "name": "stdout"
        }
      ]
    },
    {
      "metadata": {
        "id": "bqGZBNyDECYM",
        "colab_type": "text"
      },
      "cell_type": "markdown",
      "source": [
        "Validation accuracy impoved very quickly! Much better than the base model"
      ]
    },
    {
      "metadata": {
        "id": "VMlWex09EVfW",
        "colab_type": "text"
      },
      "cell_type": "markdown",
      "source": [
        "<h2>Further Improving Accuracy with Fine-Tuning</h2>\n",
        "\n",
        "Notes: \n",
        "- goal of fine-tuning is to adapt the pretrained model specialized features to work with the new dataset\n",
        "- fine-tuning the weight of pretrained network would increase performance \n",
        "- **fine-tuning should only be attempted after training the top-level calssifier of the pretrained model**, since the higher-up layers is, the more specialized it it. \n",
        "- The features of higher-up layers are specific to the input the model was trained on.  "
      ]
    },
    {
      "metadata": {
        "id": "46eFdS9PDzH2",
        "colab_type": "code",
        "colab": {}
      },
      "cell_type": "code",
      "source": [
        "# Implement fine-tuning by setting the top layers of Inception V3 \"trainable\"\n",
        "unfreez = False\n",
        "\n",
        "# Unfreeze all models belonging to \"mixed7\" i.e,\n",
        "# all layer found after \"mixed6\" and recompile the updated model\n",
        "for layer in pre_trained_model.layers:\n",
        "  if unfreez:\n",
        "    layer.trainable = True\n",
        "  if layer.name == 'mixed6':\n",
        "    unfreez = True\n",
        "\n",
        "from keras.optimizers import SGD\n",
        "\n",
        "# As an optimizer, here we will use SGD\n",
        "# with a very small learning rate (0.00001)\n",
        "model.compile(loss='binary_crossentropy',\n",
        "             optimizer=SGD(lr=0.00001, momentum=0.9),\n",
        "             metrics=['acc'])\n"
      ],
      "execution_count": 0,
      "outputs": []
    },
    {
      "metadata": {
        "id": "zUfHpEEuKn-6",
        "colab_type": "code",
        "colab": {
          "base_uri": "https://localhost:8080/",
          "height": 1737
        },
        "outputId": "f220b5f4-7213-4478-a952-906844ab2850"
      },
      "cell_type": "code",
      "source": [
        "# Retrain the model using all 2000 images for 50 epochs\n",
        "# and validate on all 1,000 test images\n",
        "\n",
        "history = model.fit_generator(\n",
        "      train_generator,\n",
        "      steps_per_epoch=100,\n",
        "      epochs=50,\n",
        "      validation_data=validation_generator,\n",
        "      validation_steps=50,\n",
        "      verbose=2)"
      ],
      "execution_count": 15,
      "outputs": [
        {
          "output_type": "stream",
          "text": [
            "Epoch 1/50\n",
            " - 29s - loss: 0.3977 - acc: 0.8315 - val_loss: 0.1834 - val_acc: 0.9550\n",
            "Epoch 2/50\n",
            " - 24s - loss: 0.3290 - acc: 0.8635 - val_loss: 0.1950 - val_acc: 0.9510\n",
            "Epoch 3/50\n",
            " - 24s - loss: 0.2952 - acc: 0.8675 - val_loss: 0.2034 - val_acc: 0.9480\n",
            "Epoch 4/50\n",
            " - 24s - loss: 0.2906 - acc: 0.8680 - val_loss: 0.2098 - val_acc: 0.9450\n",
            "Epoch 5/50\n",
            " - 25s - loss: 0.2990 - acc: 0.8730 - val_loss: 0.2156 - val_acc: 0.9440\n",
            "Epoch 6/50\n",
            " - 24s - loss: 0.2900 - acc: 0.8725 - val_loss: 0.2167 - val_acc: 0.9440\n",
            "Epoch 7/50\n",
            " - 25s - loss: 0.2883 - acc: 0.8685 - val_loss: 0.2180 - val_acc: 0.9450\n",
            "Epoch 8/50\n",
            " - 24s - loss: 0.2873 - acc: 0.8740 - val_loss: 0.2159 - val_acc: 0.9450\n",
            "Epoch 9/50\n",
            " - 25s - loss: 0.2875 - acc: 0.8710 - val_loss: 0.2198 - val_acc: 0.9440\n",
            "Epoch 10/50\n",
            " - 24s - loss: 0.2812 - acc: 0.8695 - val_loss: 0.2215 - val_acc: 0.9430\n",
            "Epoch 11/50\n",
            " - 25s - loss: 0.2741 - acc: 0.8785 - val_loss: 0.2195 - val_acc: 0.9440\n",
            "Epoch 12/50\n",
            " - 24s - loss: 0.2829 - acc: 0.8700 - val_loss: 0.2209 - val_acc: 0.9440\n",
            "Epoch 13/50\n",
            " - 25s - loss: 0.2956 - acc: 0.8715 - val_loss: 0.2226 - val_acc: 0.9430\n",
            "Epoch 14/50\n",
            " - 24s - loss: 0.2822 - acc: 0.8740 - val_loss: 0.2223 - val_acc: 0.9430\n",
            "Epoch 15/50\n",
            " - 24s - loss: 0.2703 - acc: 0.8830 - val_loss: 0.2237 - val_acc: 0.9430\n",
            "Epoch 16/50\n",
            " - 24s - loss: 0.2750 - acc: 0.8850 - val_loss: 0.2247 - val_acc: 0.9430\n",
            "Epoch 17/50\n",
            " - 25s - loss: 0.2729 - acc: 0.8875 - val_loss: 0.2252 - val_acc: 0.9420\n",
            "Epoch 18/50\n",
            " - 24s - loss: 0.2790 - acc: 0.8805 - val_loss: 0.2241 - val_acc: 0.9420\n",
            "Epoch 19/50\n",
            " - 25s - loss: 0.2815 - acc: 0.8845 - val_loss: 0.2273 - val_acc: 0.9420\n",
            "Epoch 20/50\n",
            " - 24s - loss: 0.2818 - acc: 0.8735 - val_loss: 0.2295 - val_acc: 0.9420\n",
            "Epoch 21/50\n",
            " - 25s - loss: 0.2786 - acc: 0.8825 - val_loss: 0.2349 - val_acc: 0.9420\n",
            "Epoch 22/50\n",
            " - 24s - loss: 0.2850 - acc: 0.8750 - val_loss: 0.2316 - val_acc: 0.9420\n",
            "Epoch 23/50\n",
            " - 25s - loss: 0.2672 - acc: 0.8835 - val_loss: 0.2293 - val_acc: 0.9430\n",
            "Epoch 24/50\n",
            " - 24s - loss: 0.2885 - acc: 0.8720 - val_loss: 0.2310 - val_acc: 0.9430\n",
            "Epoch 25/50\n",
            " - 25s - loss: 0.2703 - acc: 0.8880 - val_loss: 0.2349 - val_acc: 0.9420\n",
            "Epoch 26/50\n",
            " - 24s - loss: 0.2802 - acc: 0.8790 - val_loss: 0.2325 - val_acc: 0.9420\n",
            "Epoch 27/50\n",
            " - 24s - loss: 0.2696 - acc: 0.8835 - val_loss: 0.2336 - val_acc: 0.9420\n",
            "Epoch 28/50\n",
            " - 23s - loss: 0.2924 - acc: 0.8675 - val_loss: 0.2324 - val_acc: 0.9430\n",
            "Epoch 29/50\n",
            " - 24s - loss: 0.2773 - acc: 0.8805 - val_loss: 0.2374 - val_acc: 0.9420\n",
            "Epoch 30/50\n",
            " - 24s - loss: 0.2766 - acc: 0.8735 - val_loss: 0.2360 - val_acc: 0.9420\n",
            "Epoch 31/50\n",
            " - 24s - loss: 0.2645 - acc: 0.8885 - val_loss: 0.2368 - val_acc: 0.9420\n",
            "Epoch 32/50\n",
            " - 24s - loss: 0.2784 - acc: 0.8855 - val_loss: 0.2364 - val_acc: 0.9420\n",
            "Epoch 33/50\n",
            " - 24s - loss: 0.2832 - acc: 0.8710 - val_loss: 0.2359 - val_acc: 0.9410\n",
            "Epoch 34/50\n",
            " - 24s - loss: 0.2779 - acc: 0.8795 - val_loss: 0.2389 - val_acc: 0.9420\n"
          ],
          "name": "stdout"
        },
        {
          "output_type": "stream",
          "text": [
            "Epoch 35/50\n",
            " - 24s - loss: 0.2830 - acc: 0.8740 - val_loss: 0.2358 - val_acc: 0.9410\n",
            "Epoch 36/50\n",
            " - 24s - loss: 0.2985 - acc: 0.8685 - val_loss: 0.2356 - val_acc: 0.9420\n",
            "Epoch 37/50\n",
            " - 24s - loss: 0.2705 - acc: 0.8880 - val_loss: 0.2331 - val_acc: 0.9420\n",
            "Epoch 38/50\n",
            " - 24s - loss: 0.2638 - acc: 0.8865 - val_loss: 0.2302 - val_acc: 0.9420\n",
            "Epoch 39/50\n",
            " - 23s - loss: 0.2774 - acc: 0.8785 - val_loss: 0.2323 - val_acc: 0.9420\n",
            "Epoch 40/50\n",
            " - 24s - loss: 0.2777 - acc: 0.8725 - val_loss: 0.2329 - val_acc: 0.9420\n",
            "Epoch 41/50\n",
            " - 24s - loss: 0.2680 - acc: 0.8830 - val_loss: 0.2346 - val_acc: 0.9410\n",
            "Epoch 42/50\n",
            " - 24s - loss: 0.2785 - acc: 0.8740 - val_loss: 0.2369 - val_acc: 0.9410\n",
            "Epoch 43/50\n",
            " - 23s - loss: 0.2818 - acc: 0.8715 - val_loss: 0.2405 - val_acc: 0.9410\n",
            "Epoch 44/50\n",
            " - 23s - loss: 0.2777 - acc: 0.8755 - val_loss: 0.2425 - val_acc: 0.9420\n",
            "Epoch 45/50\n",
            " - 23s - loss: 0.2652 - acc: 0.8820 - val_loss: 0.2399 - val_acc: 0.9410\n",
            "Epoch 46/50\n",
            " - 23s - loss: 0.2778 - acc: 0.8735 - val_loss: 0.2405 - val_acc: 0.9420\n",
            "Epoch 47/50\n",
            " - 24s - loss: 0.2763 - acc: 0.8770 - val_loss: 0.2383 - val_acc: 0.9410\n",
            "Epoch 48/50\n",
            " - 24s - loss: 0.2813 - acc: 0.8750 - val_loss: 0.2384 - val_acc: 0.9410\n",
            "Epoch 49/50\n",
            " - 24s - loss: 0.2690 - acc: 0.8845 - val_loss: 0.2376 - val_acc: 0.9410\n",
            "Epoch 50/50\n",
            " - 23s - loss: 0.2684 - acc: 0.8805 - val_loss: 0.2323 - val_acc: 0.9410\n"
          ],
          "name": "stdout"
        }
      ]
    },
    {
      "metadata": {
        "id": "9ziIFTeNLm6y",
        "colab_type": "text"
      },
      "cell_type": "markdown",
      "source": [
        "Validation accuracy showed 4.5% relative imporvment in accuracy. "
      ]
    },
    {
      "metadata": {
        "id": "Bq61wEe0Lhc6",
        "colab_type": "code",
        "colab": {
          "base_uri": "https://localhost:8080/",
          "height": 571
        },
        "outputId": "2da36d85-a1bc-4753-ab37-a4c9730e08ce"
      },
      "cell_type": "code",
      "source": [
        "%matplotlib inline\n",
        "\n",
        "import matplotlib.pyplot as plt\n",
        "import matplotlib.image as mpimg\n",
        "\n",
        "# Retrieve a list of accuracy results on training and \n",
        "# test data for each epoch\n",
        "train_acc = history.history['acc']\n",
        "val_acc = history.history['val_acc']\n",
        "\n",
        "# Retriev loss\n",
        "train_loss = history.history['loss']\n",
        "val_loss = history.history['val_loss']\n",
        "\n",
        "# Get num of epochs\n",
        "epochs = range(len(train_acc))\n",
        "\n",
        "# Plot training and validation accuracy\n",
        "plt.plot(epochs, train_acc, label='train_acc')\n",
        "plt.plot(epochs, val_acc, label='val_acc')\n",
        "plt.title('Training and validation accuracy')\n",
        "plt.xlabel('Epochs')\n",
        "plt.ylabel('Acc')\n",
        "plt.legend()\n",
        "\n",
        "plt.figure()\n",
        "\n",
        "# Plot training and validation loss\n",
        "plt.plot(epochs, train_loss, label='train_loss')\n",
        "plt.plot(epochs, val_loss, label='val_loss')\n",
        "plt.title('Training and validation loss')\n",
        "plt.xlabel('Epochs')\n",
        "plt.ylabel('Loss')\n",
        "plt.legend()\n",
        "\n",
        "plt.show()\n",
        "plt.close()\n"
      ],
      "execution_count": 20,
      "outputs": [
        {
          "output_type": "display_data",
          "data": {
            "image/png": "[encoded data removed]",
            "text/plain": [
              "<matplotlib.figure.Figure at 0x7fa16698fa20>"
            ]
          },
          "metadata": {
            "tags": []
          }
        },
        {
          "output_type": "display_data",
          "data": {
            "image/png": "[encoded data removed]",
            "text/plain": [
              "<matplotlib.figure.Figure at 0x7fa1824b9ac8>"
            ]
          },
          "metadata": {
            "tags": []
          }
        }
      ]
    },
    {
      "metadata": {
        "id": "K0H77xdBNd5e",
        "colab_type": "code",
        "colab": {}
      },
      "cell_type": "code",
      "source": [
        "# Clean up colab\n",
        "import os, signal\n",
        "ok.kill(os.getpid(), signla.SIGKILL)"
      ],
      "execution_count": 0,
      "outputs": []
    },
    {
      "metadata": {
        "id": "X88M6wszQv79",
        "colab_type": "text"
      },
      "cell_type": "markdown",
      "source": [
        "*This tutorial was inspired by Google ML crash course *"
      ]
    },
    {
      "metadata": {
        "id": "wuTT39gaQ5RD",
        "colab_type": "code",
        "colab": {}
      },
      "cell_type": "code",
      "source": [
        ""
      ],
      "execution_count": 0,
      "outputs": []
    }
  ]
}